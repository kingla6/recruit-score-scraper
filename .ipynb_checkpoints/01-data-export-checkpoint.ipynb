{
 "cells": [
  {
   "cell_type": "markdown",
   "metadata": {},
   "source": [
    "# 01-data-export"
   ]
  },
  {
   "cell_type": "markdown",
   "metadata": {},
   "source": [
    "> Code to put scraped stats into format to match google sheets"
   ]
  },
  {
   "cell_type": "markdown",
   "metadata": {},
   "source": [
    "The following notebook builds a function to clean, reformat, and export the high school stats scrapped for players in the current week. It will take the input of whatever the current week's excel sheet is and provide an output csv in the same format with scores and stats filled in. This sheet is meant for debugging the data_export function, the final function will be called from data_export.py."
   ]
  },
  {
   "cell_type": "code",
   "execution_count": 1,
   "metadata": {},
   "outputs": [],
   "source": [
    "#import relevant packages\n",
    "import datetime\n",
    "import importlib\n",
    "\n",
    "##dependencies for function call\n",
    "import requests as rq\n",
    "from bs4 import BeautifulSoup as bs\n",
    "import pandas as pd\n",
    "import numpy as np\n",
    "\n",
    "##function\n",
    "from functions.stat_scraper import *"
   ]
  },
  {
   "cell_type": "code",
   "execution_count": 2,
   "metadata": {},
   "outputs": [],
   "source": [
    "def data_export(uploaded_file):\n",
    "    \n",
    "    #read in the excel file of interest, given by the user\n",
    "    input_table = uploaded_file\n",
    "    \n",
    "    #data cleaning of input file\n",
    "    ##toss observations with no MaxPreps link or game date\n",
    "    input_part = input_table[input_table['MaxPreps Link'].notna() & input_table['Game Date'].notna()].reset_index(drop = True)\n",
    "    ##change format of game date to match MaxPreps data\n",
    "    input_part['Game Date'] = input_part['Game Date'].astype(str).apply(lambda x: datetime.datetime.strptime(x, '%Y-%m-%d').strftime('%m/%d'))\n",
    "    \n",
    "    #scrape stats for all players\n",
    "    input_stats = stat_scraper(input_part['MaxPreps Link'])\n",
    "    \n",
    "    #merge stats with this week's data, dropping and renaming columns as necessary\n",
    "    input_merge = pd.merge(input_part, input_stats, left_on = ['MaxPreps Link', 'Game Date'], right_on = ['Player', 'Date'], how = 'left').drop(['Player', 'Date'], axis=1).rename(columns = {'Result_x': 'Result', 'Result_y': 'Scraped_Result'}).drop(['Game Date', 'MaxPreps Link', 'Opponent'], axis = 1)\n",
    "    \n",
    "    #merge back to the main page of data, goal of this is to create output file identical to google sheet format\n",
    "    final_merge = pd.merge(input_table, input_merge, how = 'left')\n",
    "    \n",
    "    #cleaning of final export file\n",
    "    final_merge[['Result', 'Record', 'Stats/Notes']] = final_merge[['Scraped_Result', 'Current_Record', 'Stats_Condensed']]\n",
    "    final_merge['Record'] = '(' + final_merge['Record'] + ')'\n",
    "    export = final_merge.drop(['Scraped_Result', 'Current_Record', 'Stats_Condensed'], axis = 1)\n",
    "    \n",
    "    #return the export file\n",
    "    return(export)\n",
    "    \n",
    "#     try:\n",
    "#         #if all is well, csv will export and return success message\n",
    "#         export.to_csv('current_week_stats.csv', index = False)\n",
    "#         return('Scores Successfully Exported!')\n",
    "#     except:\n",
    "#         #otherwise, an error message will be returned\n",
    "#         return('There was an issue exporting scores :(')"
   ]
  },
  {
   "cell_type": "code",
   "execution_count": 3,
   "metadata": {},
   "outputs": [],
   "source": [
    "test_file = 'week2_test.xlsx'\n",
    "test_sheet = 'Sheet1'"
   ]
  },
  {
   "cell_type": "code",
   "execution_count": 4,
   "metadata": {},
   "outputs": [
    {
     "data": {
      "text/plain": [
       "'Scores Successfully Exported!'"
      ]
     },
     "execution_count": 4,
     "metadata": {},
     "output_type": "execute_result"
    }
   ],
   "source": [
    "data_export(test_file, test_sheet)"
   ]
  },
  {
   "cell_type": "markdown",
   "metadata": {},
   "source": [
    "Chris Peal and Marcel Reed have the nonetype issue"
   ]
  },
  {
   "cell_type": "code",
   "execution_count": null,
   "metadata": {},
   "outputs": [],
   "source": []
  }
 ],
 "metadata": {
  "kernelspec": {
   "display_name": "Python 3",
   "language": "python",
   "name": "python3"
  },
  "language_info": {
   "codemirror_mode": {
    "name": "ipython",
    "version": 3
   },
   "file_extension": ".py",
   "mimetype": "text/x-python",
   "name": "python",
   "nbconvert_exporter": "python",
   "pygments_lexer": "ipython3",
   "version": "3.8.11"
  }
 },
 "nbformat": 4,
 "nbformat_minor": 4
}
